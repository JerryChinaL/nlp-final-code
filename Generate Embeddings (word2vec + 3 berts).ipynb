{
 "cells": [
  {
   "cell_type": "code",
   "execution_count": 1,
   "id": "81daa201",
   "metadata": {},
   "outputs": [],
   "source": [
    "import numpy as np\n",
    "import pandas as pd"
   ]
  },
  {
   "cell_type": "code",
   "execution_count": 2,
   "id": "aa047704",
   "metadata": {},
   "outputs": [
    {
     "data": {
      "text/html": [
       "<div>\n",
       "<style scoped>\n",
       "    .dataframe tbody tr th:only-of-type {\n",
       "        vertical-align: middle;\n",
       "    }\n",
       "\n",
       "    .dataframe tbody tr th {\n",
       "        vertical-align: top;\n",
       "    }\n",
       "\n",
       "    .dataframe thead th {\n",
       "        text-align: right;\n",
       "    }\n",
       "</style>\n",
       "<table border=\"1\" class=\"dataframe\">\n",
       "  <thead>\n",
       "    <tr style=\"text-align: right;\">\n",
       "      <th></th>\n",
       "      <th>Date</th>\n",
       "      <th>Article_title</th>\n",
       "      <th>Stock_symbol</th>\n",
       "      <th>Url</th>\n",
       "      <th>close</th>\n",
       "      <th>1d_open</th>\n",
       "      <th>1d_close</th>\n",
       "      <th>3d_close</th>\n",
       "      <th>Unnamed: 0</th>\n",
       "      <th>arima_prediction</th>\n",
       "      <th>3d_change</th>\n",
       "      <th>3d_direction</th>\n",
       "      <th>arima_3d_direction</th>\n",
       "    </tr>\n",
       "  </thead>\n",
       "  <tbody>\n",
       "    <tr>\n",
       "      <th>0</th>\n",
       "      <td>2020-06-10</td>\n",
       "      <td>Tech Stocks And FAANGS Strong Again To Start D...</td>\n",
       "      <td>AAPL</td>\n",
       "      <td>https://www.benzinga.com/government/20/06/1622...</td>\n",
       "      <td>352.839996</td>\n",
       "      <td>349.309998</td>\n",
       "      <td>335.899994</td>\n",
       "      <td>342.989990</td>\n",
       "      <td>59.0</td>\n",
       "      <td>1.373906</td>\n",
       "      <td>-1.809283</td>\n",
       "      <td>-1</td>\n",
       "      <td>1</td>\n",
       "    </tr>\n",
       "    <tr>\n",
       "      <th>1</th>\n",
       "      <td>2020-06-10</td>\n",
       "      <td>10 Biggest Price Target Changes For Wednesday</td>\n",
       "      <td>AAPL</td>\n",
       "      <td>https://www.benzinga.com/analyst-ratings/price...</td>\n",
       "      <td>352.839996</td>\n",
       "      <td>349.309998</td>\n",
       "      <td>335.899994</td>\n",
       "      <td>342.989990</td>\n",
       "      <td>59.0</td>\n",
       "      <td>1.373906</td>\n",
       "      <td>-1.809283</td>\n",
       "      <td>-1</td>\n",
       "      <td>1</td>\n",
       "    </tr>\n",
       "    <tr>\n",
       "      <th>2</th>\n",
       "      <td>2020-06-09</td>\n",
       "      <td>Benzinga Pro's Top 5 Stocks To Watch For Wed.,...</td>\n",
       "      <td>AAPL</td>\n",
       "      <td>https://www.benzinga.com/short-sellers/20/06/1...</td>\n",
       "      <td>343.989990</td>\n",
       "      <td>347.899994</td>\n",
       "      <td>352.839996</td>\n",
       "      <td>338.799988</td>\n",
       "      <td>58.0</td>\n",
       "      <td>-1.947308</td>\n",
       "      <td>-2.615696</td>\n",
       "      <td>-1</td>\n",
       "      <td>-1</td>\n",
       "    </tr>\n",
       "    <tr>\n",
       "      <th>3</th>\n",
       "      <td>2020-06-09</td>\n",
       "      <td>Deutsche Bank Maintains Buy on Apple, Raises P...</td>\n",
       "      <td>AAPL</td>\n",
       "      <td>https://www.benzinga.com/news/20/06/16219873/d...</td>\n",
       "      <td>343.989990</td>\n",
       "      <td>347.899994</td>\n",
       "      <td>352.839996</td>\n",
       "      <td>338.799988</td>\n",
       "      <td>58.0</td>\n",
       "      <td>-1.947308</td>\n",
       "      <td>-2.615696</td>\n",
       "      <td>-1</td>\n",
       "      <td>-1</td>\n",
       "    </tr>\n",
       "    <tr>\n",
       "      <th>4</th>\n",
       "      <td>2020-06-09</td>\n",
       "      <td>Apple To Let Users Trade In Their Mac Computer...</td>\n",
       "      <td>AAPL</td>\n",
       "      <td>https://www.benzinga.com/news/20/06/16218697/a...</td>\n",
       "      <td>343.989990</td>\n",
       "      <td>347.899994</td>\n",
       "      <td>352.839996</td>\n",
       "      <td>338.799988</td>\n",
       "      <td>58.0</td>\n",
       "      <td>-1.947308</td>\n",
       "      <td>-2.615696</td>\n",
       "      <td>-1</td>\n",
       "      <td>-1</td>\n",
       "    </tr>\n",
       "  </tbody>\n",
       "</table>\n",
       "</div>"
      ],
      "text/plain": [
       "        Date                                      Article_title Stock_symbol  \\\n",
       "0 2020-06-10  Tech Stocks And FAANGS Strong Again To Start D...         AAPL   \n",
       "1 2020-06-10      10 Biggest Price Target Changes For Wednesday         AAPL   \n",
       "2 2020-06-09  Benzinga Pro's Top 5 Stocks To Watch For Wed.,...         AAPL   \n",
       "3 2020-06-09  Deutsche Bank Maintains Buy on Apple, Raises P...         AAPL   \n",
       "4 2020-06-09  Apple To Let Users Trade In Their Mac Computer...         AAPL   \n",
       "\n",
       "                                                 Url       close     1d_open  \\\n",
       "0  https://www.benzinga.com/government/20/06/1622...  352.839996  349.309998   \n",
       "1  https://www.benzinga.com/analyst-ratings/price...  352.839996  349.309998   \n",
       "2  https://www.benzinga.com/short-sellers/20/06/1...  343.989990  347.899994   \n",
       "3  https://www.benzinga.com/news/20/06/16219873/d...  343.989990  347.899994   \n",
       "4  https://www.benzinga.com/news/20/06/16218697/a...  343.989990  347.899994   \n",
       "\n",
       "     1d_close    3d_close  Unnamed: 0  arima_prediction  3d_change  \\\n",
       "0  335.899994  342.989990        59.0          1.373906  -1.809283   \n",
       "1  335.899994  342.989990        59.0          1.373906  -1.809283   \n",
       "2  352.839996  338.799988        58.0         -1.947308  -2.615696   \n",
       "3  352.839996  338.799988        58.0         -1.947308  -2.615696   \n",
       "4  352.839996  338.799988        58.0         -1.947308  -2.615696   \n",
       "\n",
       "   3d_direction  arima_3d_direction  \n",
       "0            -1                   1  \n",
       "1            -1                   1  \n",
       "2            -1                  -1  \n",
       "3            -1                  -1  \n",
       "4            -1                  -1  "
      ]
     },
     "execution_count": 2,
     "metadata": {},
     "output_type": "execute_result"
    }
   ],
   "source": [
    "df = pd.read_csv(\"Data/merged_data.csv\", index_col = 0)\n",
    "df['Date'] = pd.to_datetime(df['Date'])\n",
    "\n",
    "df.rename(columns={'Predicted_Price_Diff': 'arima_prediction'}, inplace=True)\n",
    "\n",
    "df.head()"
   ]
  },
  {
   "cell_type": "code",
   "execution_count": 3,
   "id": "babcbff4",
   "metadata": {},
   "outputs": [
    {
     "name": "stderr",
     "output_type": "stream",
     "text": [
      "[nltk_data] Downloading package stopwords to\n",
      "[nltk_data]     C:\\Users\\Jerry\\AppData\\Roaming\\nltk_data...\n",
      "[nltk_data]   Package stopwords is already up-to-date!\n",
      "[nltk_data] Downloading package punkt to\n",
      "[nltk_data]     C:\\Users\\Jerry\\AppData\\Roaming\\nltk_data...\n",
      "[nltk_data]   Package punkt is already up-to-date!\n"
     ]
    },
    {
     "data": {
      "text/html": [
       "<div>\n",
       "<style scoped>\n",
       "    .dataframe tbody tr th:only-of-type {\n",
       "        vertical-align: middle;\n",
       "    }\n",
       "\n",
       "    .dataframe tbody tr th {\n",
       "        vertical-align: top;\n",
       "    }\n",
       "\n",
       "    .dataframe thead th {\n",
       "        text-align: right;\n",
       "    }\n",
       "</style>\n",
       "<table border=\"1\" class=\"dataframe\">\n",
       "  <thead>\n",
       "    <tr style=\"text-align: right;\">\n",
       "      <th></th>\n",
       "      <th>Article_title</th>\n",
       "      <th>word2vec</th>\n",
       "    </tr>\n",
       "  </thead>\n",
       "  <tbody>\n",
       "    <tr>\n",
       "      <th>0</th>\n",
       "      <td>Tech Stocks And FAANGS Strong Again To Start D...</td>\n",
       "      <td>[0.22613467, 0.120725006, -0.0344015, -0.03363...</td>\n",
       "    </tr>\n",
       "    <tr>\n",
       "      <th>1</th>\n",
       "      <td>10 Biggest Price Target Changes For Wednesday</td>\n",
       "      <td>[0.7269928, 0.45623422, 0.16811378, 0.4158756,...</td>\n",
       "    </tr>\n",
       "    <tr>\n",
       "      <th>2</th>\n",
       "      <td>Benzinga Pro's Top 5 Stocks To Watch For Wed.,...</td>\n",
       "      <td>[0.16575599, 0.11278104, 0.14067568, 0.1441355...</td>\n",
       "    </tr>\n",
       "    <tr>\n",
       "      <th>3</th>\n",
       "      <td>Deutsche Bank Maintains Buy on Apple, Raises P...</td>\n",
       "      <td>[0.77714425, 0.22397597, -0.2422117, 0.4820196...</td>\n",
       "    </tr>\n",
       "    <tr>\n",
       "      <th>4</th>\n",
       "      <td>Apple To Let Users Trade In Their Mac Computer...</td>\n",
       "      <td>[0.21648331, 0.03065869, -0.09960988, 0.049770...</td>\n",
       "    </tr>\n",
       "  </tbody>\n",
       "</table>\n",
       "</div>"
      ],
      "text/plain": [
       "                                       Article_title  \\\n",
       "0  Tech Stocks And FAANGS Strong Again To Start D...   \n",
       "1      10 Biggest Price Target Changes For Wednesday   \n",
       "2  Benzinga Pro's Top 5 Stocks To Watch For Wed.,...   \n",
       "3  Deutsche Bank Maintains Buy on Apple, Raises P...   \n",
       "4  Apple To Let Users Trade In Their Mac Computer...   \n",
       "\n",
       "                                            word2vec  \n",
       "0  [0.22613467, 0.120725006, -0.0344015, -0.03363...  \n",
       "1  [0.7269928, 0.45623422, 0.16811378, 0.4158756,...  \n",
       "2  [0.16575599, 0.11278104, 0.14067568, 0.1441355...  \n",
       "3  [0.77714425, 0.22397597, -0.2422117, 0.4820196...  \n",
       "4  [0.21648331, 0.03065869, -0.09960988, 0.049770...  "
      ]
     },
     "execution_count": 3,
     "metadata": {},
     "output_type": "execute_result"
    }
   ],
   "source": [
    "import gensim\n",
    "from gensim.models import Word2Vec\n",
    "import numpy as np\n",
    "import pandas as pd\n",
    "from nltk.corpus import stopwords\n",
    "from nltk.tokenize import word_tokenize\n",
    "\n",
    "import nltk\n",
    "nltk.download('stopwords')\n",
    "nltk.download('punkt')\n",
    "\n",
    "stop_words = set(stopwords.words('english'))\n",
    "\n",
    "def preprocess(text):\n",
    "    words = word_tokenize(text.lower())\n",
    "    return [word for word in words if word.isalpha() and word not in stop_words]\n",
    "\n",
    "sentences = df['Article_title'].dropna().apply(preprocess).tolist()\n",
    "\n",
    "word2vec_model = Word2Vec(sentences, vector_size=100, window=5, min_count=1, workers=4)\n",
    "\n",
    "def sentence_to_vector(sentence, model):\n",
    "    words = preprocess(sentence)\n",
    "    word_vectors = [model.wv[word] for word in words if word in model.wv]\n",
    "    if len(word_vectors) == 0:\n",
    "        return np.zeros(model.vector_size)\n",
    "    return np.mean(word_vectors, axis=0)\n",
    "\n",
    "df['word2vec'] = df['Article_title'].apply(lambda x: sentence_to_vector(str(x), word2vec_model) if pd.notnull(x) else np.zeros(word2vec_model.vector_size))\n",
    "\n",
    "df[['Article_title', 'word2vec']].head()\n"
   ]
  },
  {
   "cell_type": "code",
   "execution_count": 5,
   "id": "ebfe61d6",
   "metadata": {},
   "outputs": [
    {
     "name": "stdout",
     "output_type": "stream",
     "text": [
      "Using device: cuda\n"
     ]
    },
    {
     "name": "stderr",
     "output_type": "stream",
     "text": [
      "Generating BERT Embeddings: 100%|███████████████████████████████████████████████| 16724/16724 [02:28<00:00, 112.50it/s]\n"
     ]
    },
    {
     "data": {
      "text/html": [
       "<div>\n",
       "<style scoped>\n",
       "    .dataframe tbody tr th:only-of-type {\n",
       "        vertical-align: middle;\n",
       "    }\n",
       "\n",
       "    .dataframe tbody tr th {\n",
       "        vertical-align: top;\n",
       "    }\n",
       "\n",
       "    .dataframe thead th {\n",
       "        text-align: right;\n",
       "    }\n",
       "</style>\n",
       "<table border=\"1\" class=\"dataframe\">\n",
       "  <thead>\n",
       "    <tr style=\"text-align: right;\">\n",
       "      <th></th>\n",
       "      <th>Article_title</th>\n",
       "      <th>bert</th>\n",
       "    </tr>\n",
       "  </thead>\n",
       "  <tbody>\n",
       "    <tr>\n",
       "      <th>0</th>\n",
       "      <td>Tech Stocks And FAANGS Strong Again To Start D...</td>\n",
       "      <td>[-0.22223899, -0.21574433, 0.7697829, -0.25863...</td>\n",
       "    </tr>\n",
       "    <tr>\n",
       "      <th>1</th>\n",
       "      <td>10 Biggest Price Target Changes For Wednesday</td>\n",
       "      <td>[-0.5261865, -0.26204786, 0.08753802, -0.09534...</td>\n",
       "    </tr>\n",
       "    <tr>\n",
       "      <th>2</th>\n",
       "      <td>Benzinga Pro's Top 5 Stocks To Watch For Wed.,...</td>\n",
       "      <td>[-0.51947445, -0.5419372, 0.20520952, 0.046122...</td>\n",
       "    </tr>\n",
       "    <tr>\n",
       "      <th>3</th>\n",
       "      <td>Deutsche Bank Maintains Buy on Apple, Raises P...</td>\n",
       "      <td>[-0.663332, -0.025526464, 0.37389, 0.24639344,...</td>\n",
       "    </tr>\n",
       "    <tr>\n",
       "      <th>4</th>\n",
       "      <td>Apple To Let Users Trade In Their Mac Computer...</td>\n",
       "      <td>[-0.18243252, 0.09596918, -0.1363424, 0.259096...</td>\n",
       "    </tr>\n",
       "  </tbody>\n",
       "</table>\n",
       "</div>"
      ],
      "text/plain": [
       "                                       Article_title  \\\n",
       "0  Tech Stocks And FAANGS Strong Again To Start D...   \n",
       "1      10 Biggest Price Target Changes For Wednesday   \n",
       "2  Benzinga Pro's Top 5 Stocks To Watch For Wed.,...   \n",
       "3  Deutsche Bank Maintains Buy on Apple, Raises P...   \n",
       "4  Apple To Let Users Trade In Their Mac Computer...   \n",
       "\n",
       "                                                bert  \n",
       "0  [-0.22223899, -0.21574433, 0.7697829, -0.25863...  \n",
       "1  [-0.5261865, -0.26204786, 0.08753802, -0.09534...  \n",
       "2  [-0.51947445, -0.5419372, 0.20520952, 0.046122...  \n",
       "3  [-0.663332, -0.025526464, 0.37389, 0.24639344,...  \n",
       "4  [-0.18243252, 0.09596918, -0.1363424, 0.259096...  "
      ]
     },
     "execution_count": 5,
     "metadata": {},
     "output_type": "execute_result"
    }
   ],
   "source": [
    "from transformers import AutoTokenizer, AutoModel\n",
    "import torch\n",
    "import numpy as np\n",
    "import pandas as pd\n",
    "from tqdm import tqdm\n",
    "\n",
    "device = torch.device('cuda' if torch.cuda.is_available() else 'cpu')\n",
    "print(f\"Using device: {device}\")\n",
    "\n",
    "model_name = \"bert-base-uncased\"\n",
    "tokenizer = AutoTokenizer.from_pretrained(model_name)\n",
    "bert_model = AutoModel.from_pretrained(model_name).to(device)\n",
    "\n",
    "def sentence_to_cls_embedding(sentence, model, tokenizer, device):\n",
    "    # Encode the sentence\n",
    "    inputs = tokenizer(\n",
    "        sentence,\n",
    "        return_tensors='pt',\n",
    "        truncation=True,\n",
    "        padding=True,\n",
    "        max_length=128\n",
    "    ).to(device)\n",
    "    \n",
    "    with torch.no_grad():\n",
    "        outputs = model(**inputs)\n",
    "    \n",
    "    # CLS token\n",
    "    cls_embedding = outputs.last_hidden_state[0, 0, :].cpu().numpy()\n",
    "    \n",
    "    return cls_embedding\n",
    "\n",
    "tqdm.pandas(desc=\"Generating BERT Embeddings\")\n",
    "df['bert'] = df['Article_title'].progress_apply(\n",
    "    lambda x: sentence_to_cls_embedding(str(x), bert_model, tokenizer, device) if pd.notnull(x) else np.zeros(768)\n",
    ")\n",
    "\n",
    "df[['Article_title', 'bert']].head()\n"
   ]
  },
  {
   "cell_type": "code",
   "execution_count": 12,
   "id": "1b5d75eb",
   "metadata": {},
   "outputs": [
    {
     "name": "stderr",
     "output_type": "stream",
     "text": [
      "Generating FinBERT [CLS] Embeddings: 100%|██████████████████████████████████████| 16724/16724 [02:30<00:00, 111.23it/s]\n"
     ]
    },
    {
     "data": {
      "text/html": [
       "<div>\n",
       "<style scoped>\n",
       "    .dataframe tbody tr th:only-of-type {\n",
       "        vertical-align: middle;\n",
       "    }\n",
       "\n",
       "    .dataframe tbody tr th {\n",
       "        vertical-align: top;\n",
       "    }\n",
       "\n",
       "    .dataframe thead th {\n",
       "        text-align: right;\n",
       "    }\n",
       "</style>\n",
       "<table border=\"1\" class=\"dataframe\">\n",
       "  <thead>\n",
       "    <tr style=\"text-align: right;\">\n",
       "      <th></th>\n",
       "      <th>Article_title</th>\n",
       "      <th>finBert</th>\n",
       "    </tr>\n",
       "  </thead>\n",
       "  <tbody>\n",
       "    <tr>\n",
       "      <th>0</th>\n",
       "      <td>Tech Stocks And FAANGS Strong Again To Start D...</td>\n",
       "      <td>[-0.26630303, -0.6620456, -0.7148093, -0.27177...</td>\n",
       "    </tr>\n",
       "    <tr>\n",
       "      <th>1</th>\n",
       "      <td>10 Biggest Price Target Changes For Wednesday</td>\n",
       "      <td>[0.17167464, -0.15455426, -0.38101625, 0.53613...</td>\n",
       "    </tr>\n",
       "    <tr>\n",
       "      <th>2</th>\n",
       "      <td>Benzinga Pro's Top 5 Stocks To Watch For Wed.,...</td>\n",
       "      <td>[-0.4587289, -0.883282, -0.9349482, 0.84453505...</td>\n",
       "    </tr>\n",
       "    <tr>\n",
       "      <th>3</th>\n",
       "      <td>Deutsche Bank Maintains Buy on Apple, Raises P...</td>\n",
       "      <td>[-0.090272084, -0.32809806, -0.115412325, 0.36...</td>\n",
       "    </tr>\n",
       "    <tr>\n",
       "      <th>4</th>\n",
       "      <td>Apple To Let Users Trade In Their Mac Computer...</td>\n",
       "      <td>[0.28189945, -0.43821844, -1.1588358, 0.484726...</td>\n",
       "    </tr>\n",
       "  </tbody>\n",
       "</table>\n",
       "</div>"
      ],
      "text/plain": [
       "                                       Article_title  \\\n",
       "0  Tech Stocks And FAANGS Strong Again To Start D...   \n",
       "1      10 Biggest Price Target Changes For Wednesday   \n",
       "2  Benzinga Pro's Top 5 Stocks To Watch For Wed.,...   \n",
       "3  Deutsche Bank Maintains Buy on Apple, Raises P...   \n",
       "4  Apple To Let Users Trade In Their Mac Computer...   \n",
       "\n",
       "                                             finBert  \n",
       "0  [-0.26630303, -0.6620456, -0.7148093, -0.27177...  \n",
       "1  [0.17167464, -0.15455426, -0.38101625, 0.53613...  \n",
       "2  [-0.4587289, -0.883282, -0.9349482, 0.84453505...  \n",
       "3  [-0.090272084, -0.32809806, -0.115412325, 0.36...  \n",
       "4  [0.28189945, -0.43821844, -1.1588358, 0.484726...  "
      ]
     },
     "execution_count": 12,
     "metadata": {},
     "output_type": "execute_result"
    }
   ],
   "source": [
    "from transformers import AutoTokenizer, AutoModel\n",
    "import torch\n",
    "import pandas as pd\n",
    "import numpy as np\n",
    "from tqdm import tqdm\n",
    "\n",
    "device = torch.device(\"cuda\" if torch.cuda.is_available() else \"cpu\")\n",
    "\n",
    "# Load tokenizer and model\n",
    "model_name = \"yiyanghkust/finbert-pretrain\"\n",
    "tokenizer = AutoTokenizer.from_pretrained(model_name)\n",
    "finbert_model = AutoModel.from_pretrained(model_name).to(device)\n",
    "\n",
    "def sentence_to_finbert_cls_embedding(sentence, model, tokenizer, device):\n",
    "    # Encode the input\n",
    "    inputs = tokenizer(\n",
    "        sentence,\n",
    "        return_tensors='pt',\n",
    "        truncation=True,\n",
    "        padding=True,\n",
    "        max_length=128\n",
    "    ).to(device)\n",
    "    \n",
    "    with torch.no_grad():\n",
    "        outputs = model(**inputs)\n",
    "    cls_embedding = outputs.last_hidden_state[:, 0, :].squeeze().cpu().numpy()\n",
    "    return cls_embedding\n",
    "\n",
    "# Generate embeddings for each row\n",
    "tqdm.pandas(desc=\"Generating FinBERT [CLS] Embeddings\")\n",
    "df['finBert'] = df['Article_title'].progress_apply(\n",
    "    lambda x: sentence_to_finbert_cls_embedding(str(x), finbert_model, tokenizer, device)\n",
    "    if pd.notnull(x)\n",
    "    else np.zeros(768)\n",
    ")\n",
    "\n",
    "df[['Article_title', 'finBert']].head()\n"
   ]
  },
  {
   "cell_type": "code",
   "execution_count": 10,
   "id": "b82b411a",
   "metadata": {},
   "outputs": [
    {
     "data": {
      "application/vnd.jupyter.widget-view+json": {
       "model_id": "189f7d9e63bf4b1b805feeeb6fa89706",
       "version_major": 2,
       "version_minor": 0
      },
      "text/plain": [
       "modules.json:   0%|          | 0.00/349 [00:00<?, ?B/s]"
      ]
     },
     "metadata": {},
     "output_type": "display_data"
    },
    {
     "name": "stderr",
     "output_type": "stream",
     "text": [
      "C:\\Users\\Jerry\\anaconda3\\envs\\env1-gpu\\lib\\site-packages\\huggingface_hub\\file_download.py:140: UserWarning: `huggingface_hub` cache-system uses symlinks by default to efficiently store duplicated files but your machine does not support them in C:\\Users\\Jerry\\.cache\\huggingface\\hub\\models--sentence-transformers--all-MiniLM-L6-v2. Caching files will still work but in a degraded version that might require more space on your disk. This warning can be disabled by setting the `HF_HUB_DISABLE_SYMLINKS_WARNING` environment variable. For more details, see https://huggingface.co/docs/huggingface_hub/how-to-cache#limitations.\n",
      "To support symlinks on Windows, you either need to activate Developer Mode or to run Python as an administrator. In order to activate developer mode, see this article: https://docs.microsoft.com/en-us/windows/apps/get-started/enable-your-device-for-development\n",
      "  warnings.warn(message)\n"
     ]
    },
    {
     "data": {
      "application/vnd.jupyter.widget-view+json": {
       "model_id": "58df5098594d4d80b4f34fbba04797b8",
       "version_major": 2,
       "version_minor": 0
      },
      "text/plain": [
       "config_sentence_transformers.json:   0%|          | 0.00/116 [00:00<?, ?B/s]"
      ]
     },
     "metadata": {},
     "output_type": "display_data"
    },
    {
     "data": {
      "application/vnd.jupyter.widget-view+json": {
       "model_id": "3e129fa6095f49f39bf345f5fe6cb52d",
       "version_major": 2,
       "version_minor": 0
      },
      "text/plain": [
       "README.md:   0%|          | 0.00/10.7k [00:00<?, ?B/s]"
      ]
     },
     "metadata": {},
     "output_type": "display_data"
    },
    {
     "data": {
      "application/vnd.jupyter.widget-view+json": {
       "model_id": "53d3b0940b71417dbdf15d4b9d761f6d",
       "version_major": 2,
       "version_minor": 0
      },
      "text/plain": [
       "sentence_bert_config.json:   0%|          | 0.00/53.0 [00:00<?, ?B/s]"
      ]
     },
     "metadata": {},
     "output_type": "display_data"
    },
    {
     "data": {
      "application/vnd.jupyter.widget-view+json": {
       "model_id": "710c6e8d769a4dadaabf6da6ee033b20",
       "version_major": 2,
       "version_minor": 0
      },
      "text/plain": [
       "config.json:   0%|          | 0.00/612 [00:00<?, ?B/s]"
      ]
     },
     "metadata": {},
     "output_type": "display_data"
    },
    {
     "data": {
      "application/vnd.jupyter.widget-view+json": {
       "model_id": "f1ed60ec99be463b939a3a88265850d3",
       "version_major": 2,
       "version_minor": 0
      },
      "text/plain": [
       "model.safetensors:   0%|          | 0.00/90.9M [00:00<?, ?B/s]"
      ]
     },
     "metadata": {},
     "output_type": "display_data"
    },
    {
     "data": {
      "application/vnd.jupyter.widget-view+json": {
       "model_id": "702591b8a8f345bdb8c9469c719273a7",
       "version_major": 2,
       "version_minor": 0
      },
      "text/plain": [
       "tokenizer_config.json:   0%|          | 0.00/350 [00:00<?, ?B/s]"
      ]
     },
     "metadata": {},
     "output_type": "display_data"
    },
    {
     "data": {
      "application/vnd.jupyter.widget-view+json": {
       "model_id": "b223f9ca3ba14e499b1fd62b36f1f1dc",
       "version_major": 2,
       "version_minor": 0
      },
      "text/plain": [
       "vocab.txt:   0%|          | 0.00/232k [00:00<?, ?B/s]"
      ]
     },
     "metadata": {},
     "output_type": "display_data"
    },
    {
     "data": {
      "application/vnd.jupyter.widget-view+json": {
       "model_id": "40f87fd020394bdaa3099cdb1b5a7975",
       "version_major": 2,
       "version_minor": 0
      },
      "text/plain": [
       "tokenizer.json:   0%|          | 0.00/466k [00:00<?, ?B/s]"
      ]
     },
     "metadata": {},
     "output_type": "display_data"
    },
    {
     "data": {
      "application/vnd.jupyter.widget-view+json": {
       "model_id": "05ee319f47154decbfd948f67ee4f4ef",
       "version_major": 2,
       "version_minor": 0
      },
      "text/plain": [
       "special_tokens_map.json:   0%|          | 0.00/112 [00:00<?, ?B/s]"
      ]
     },
     "metadata": {},
     "output_type": "display_data"
    },
    {
     "data": {
      "application/vnd.jupyter.widget-view+json": {
       "model_id": "76aa10e17d234285a65e16cff3b9e989",
       "version_major": 2,
       "version_minor": 0
      },
      "text/plain": [
       "1_Pooling%2Fconfig.json:   0%|          | 0.00/190 [00:00<?, ?B/s]"
      ]
     },
     "metadata": {},
     "output_type": "display_data"
    },
    {
     "name": "stderr",
     "output_type": "stream",
     "text": [
      "Generating SBERT Embeddings: 100%|██████████████████████████████████████████████| 16724/16724 [01:57<00:00, 142.81it/s]\n"
     ]
    },
    {
     "data": {
      "text/html": [
       "<div>\n",
       "<style scoped>\n",
       "    .dataframe tbody tr th:only-of-type {\n",
       "        vertical-align: middle;\n",
       "    }\n",
       "\n",
       "    .dataframe tbody tr th {\n",
       "        vertical-align: top;\n",
       "    }\n",
       "\n",
       "    .dataframe thead th {\n",
       "        text-align: right;\n",
       "    }\n",
       "</style>\n",
       "<table border=\"1\" class=\"dataframe\">\n",
       "  <thead>\n",
       "    <tr style=\"text-align: right;\">\n",
       "      <th></th>\n",
       "      <th>Article_title</th>\n",
       "      <th>sBert</th>\n",
       "    </tr>\n",
       "  </thead>\n",
       "  <tbody>\n",
       "    <tr>\n",
       "      <th>0</th>\n",
       "      <td>Tech Stocks And FAANGS Strong Again To Start D...</td>\n",
       "      <td>[-0.005246668, -0.060425527, 0.07172174, 0.062...</td>\n",
       "    </tr>\n",
       "    <tr>\n",
       "      <th>1</th>\n",
       "      <td>10 Biggest Price Target Changes For Wednesday</td>\n",
       "      <td>[-0.0076999157, -0.036944382, 0.051584832, -0....</td>\n",
       "    </tr>\n",
       "    <tr>\n",
       "      <th>2</th>\n",
       "      <td>Benzinga Pro's Top 5 Stocks To Watch For Wed.,...</td>\n",
       "      <td>[-0.11140143, -0.052677345, -0.057600692, -0.0...</td>\n",
       "    </tr>\n",
       "    <tr>\n",
       "      <th>3</th>\n",
       "      <td>Deutsche Bank Maintains Buy on Apple, Raises P...</td>\n",
       "      <td>[0.03324856, -0.05314027, 0.014023768, 0.01497...</td>\n",
       "    </tr>\n",
       "    <tr>\n",
       "      <th>4</th>\n",
       "      <td>Apple To Let Users Trade In Their Mac Computer...</td>\n",
       "      <td>[-0.023000775, 0.0014990732, 0.027343368, -0.0...</td>\n",
       "    </tr>\n",
       "  </tbody>\n",
       "</table>\n",
       "</div>"
      ],
      "text/plain": [
       "                                       Article_title  \\\n",
       "0  Tech Stocks And FAANGS Strong Again To Start D...   \n",
       "1      10 Biggest Price Target Changes For Wednesday   \n",
       "2  Benzinga Pro's Top 5 Stocks To Watch For Wed.,...   \n",
       "3  Deutsche Bank Maintains Buy on Apple, Raises P...   \n",
       "4  Apple To Let Users Trade In Their Mac Computer...   \n",
       "\n",
       "                                               sBert  \n",
       "0  [-0.005246668, -0.060425527, 0.07172174, 0.062...  \n",
       "1  [-0.0076999157, -0.036944382, 0.051584832, -0....  \n",
       "2  [-0.11140143, -0.052677345, -0.057600692, -0.0...  \n",
       "3  [0.03324856, -0.05314027, 0.014023768, 0.01497...  \n",
       "4  [-0.023000775, 0.0014990732, 0.027343368, -0.0...  "
      ]
     },
     "execution_count": 10,
     "metadata": {},
     "output_type": "execute_result"
    }
   ],
   "source": [
    "from sentence_transformers import SentenceTransformer\n",
    "import pandas as pd\n",
    "import numpy as np\n",
    "from tqdm import tqdm\n",
    "\n",
    "device = torch.device(\"cuda\" if torch.cuda.is_available() else \"cpu\")\n",
    "\n",
    "sbert_model_name = 'sentence-transformers/all-MiniLM-L6-v2'\n",
    "sbert_model = SentenceTransformer(sbert_model_name, device=str(device))\n",
    "\n",
    "def sentence_to_sbert_embedding(sentence, model):\n",
    "    return model.encode(sentence)\n",
    "\n",
    "# Generate embeddings\n",
    "tqdm.pandas(desc=\"Generating SBERT Embeddings\")\n",
    "df['sBert'] = df['Article_title'].progress_apply(\n",
    "    lambda x: sentence_to_sbert_embedding(str(x), sbert_model)\n",
    "    if pd.notnull(x)\n",
    "    else np.zeros(384)\n",
    ")\n",
    "\n",
    "df[['Article_title', 'sBert']].head()\n"
   ]
  },
  {
   "cell_type": "code",
   "execution_count": 13,
   "id": "7806c0c3",
   "metadata": {},
   "outputs": [
    {
     "data": {
      "text/html": [
       "<div>\n",
       "<style scoped>\n",
       "    .dataframe tbody tr th:only-of-type {\n",
       "        vertical-align: middle;\n",
       "    }\n",
       "\n",
       "    .dataframe tbody tr th {\n",
       "        vertical-align: top;\n",
       "    }\n",
       "\n",
       "    .dataframe thead th {\n",
       "        text-align: right;\n",
       "    }\n",
       "</style>\n",
       "<table border=\"1\" class=\"dataframe\">\n",
       "  <thead>\n",
       "    <tr style=\"text-align: right;\">\n",
       "      <th></th>\n",
       "      <th>Date</th>\n",
       "      <th>Article_title</th>\n",
       "      <th>Stock_symbol</th>\n",
       "      <th>Url</th>\n",
       "      <th>close</th>\n",
       "      <th>1d_open</th>\n",
       "      <th>1d_close</th>\n",
       "      <th>3d_close</th>\n",
       "      <th>Unnamed: 0</th>\n",
       "      <th>arima_prediction</th>\n",
       "      <th>3d_change</th>\n",
       "      <th>3d_direction</th>\n",
       "      <th>arima_3d_direction</th>\n",
       "      <th>word2vec</th>\n",
       "      <th>bert</th>\n",
       "      <th>sBert</th>\n",
       "      <th>finBert</th>\n",
       "    </tr>\n",
       "  </thead>\n",
       "  <tbody>\n",
       "    <tr>\n",
       "      <th>0</th>\n",
       "      <td>2020-06-10</td>\n",
       "      <td>Tech Stocks And FAANGS Strong Again To Start D...</td>\n",
       "      <td>AAPL</td>\n",
       "      <td>https://www.benzinga.com/government/20/06/1622...</td>\n",
       "      <td>352.839996</td>\n",
       "      <td>349.309998</td>\n",
       "      <td>335.899994</td>\n",
       "      <td>342.989990</td>\n",
       "      <td>59.0</td>\n",
       "      <td>1.373906</td>\n",
       "      <td>-1.809283</td>\n",
       "      <td>-1</td>\n",
       "      <td>1</td>\n",
       "      <td>[0.22613467, 0.120725006, -0.0344015, -0.03363...</td>\n",
       "      <td>[-0.22223899, -0.21574433, 0.7697829, -0.25863...</td>\n",
       "      <td>[-0.005246668, -0.060425527, 0.07172174, 0.062...</td>\n",
       "      <td>[-0.26630303, -0.6620456, -0.7148093, -0.27177...</td>\n",
       "    </tr>\n",
       "    <tr>\n",
       "      <th>1</th>\n",
       "      <td>2020-06-10</td>\n",
       "      <td>10 Biggest Price Target Changes For Wednesday</td>\n",
       "      <td>AAPL</td>\n",
       "      <td>https://www.benzinga.com/analyst-ratings/price...</td>\n",
       "      <td>352.839996</td>\n",
       "      <td>349.309998</td>\n",
       "      <td>335.899994</td>\n",
       "      <td>342.989990</td>\n",
       "      <td>59.0</td>\n",
       "      <td>1.373906</td>\n",
       "      <td>-1.809283</td>\n",
       "      <td>-1</td>\n",
       "      <td>1</td>\n",
       "      <td>[0.7269928, 0.45623422, 0.16811378, 0.4158756,...</td>\n",
       "      <td>[-0.5261865, -0.26204786, 0.08753802, -0.09534...</td>\n",
       "      <td>[-0.0076999157, -0.036944382, 0.051584832, -0....</td>\n",
       "      <td>[0.17167464, -0.15455426, -0.38101625, 0.53613...</td>\n",
       "    </tr>\n",
       "    <tr>\n",
       "      <th>2</th>\n",
       "      <td>2020-06-09</td>\n",
       "      <td>Benzinga Pro's Top 5 Stocks To Watch For Wed.,...</td>\n",
       "      <td>AAPL</td>\n",
       "      <td>https://www.benzinga.com/short-sellers/20/06/1...</td>\n",
       "      <td>343.989990</td>\n",
       "      <td>347.899994</td>\n",
       "      <td>352.839996</td>\n",
       "      <td>338.799988</td>\n",
       "      <td>58.0</td>\n",
       "      <td>-1.947308</td>\n",
       "      <td>-2.615696</td>\n",
       "      <td>-1</td>\n",
       "      <td>-1</td>\n",
       "      <td>[0.16575599, 0.11278104, 0.14067568, 0.1441355...</td>\n",
       "      <td>[-0.51947445, -0.5419372, 0.20520952, 0.046122...</td>\n",
       "      <td>[-0.11140143, -0.052677345, -0.057600692, -0.0...</td>\n",
       "      <td>[-0.4587289, -0.883282, -0.9349482, 0.84453505...</td>\n",
       "    </tr>\n",
       "    <tr>\n",
       "      <th>3</th>\n",
       "      <td>2020-06-09</td>\n",
       "      <td>Deutsche Bank Maintains Buy on Apple, Raises P...</td>\n",
       "      <td>AAPL</td>\n",
       "      <td>https://www.benzinga.com/news/20/06/16219873/d...</td>\n",
       "      <td>343.989990</td>\n",
       "      <td>347.899994</td>\n",
       "      <td>352.839996</td>\n",
       "      <td>338.799988</td>\n",
       "      <td>58.0</td>\n",
       "      <td>-1.947308</td>\n",
       "      <td>-2.615696</td>\n",
       "      <td>-1</td>\n",
       "      <td>-1</td>\n",
       "      <td>[0.77714425, 0.22397597, -0.2422117, 0.4820196...</td>\n",
       "      <td>[-0.663332, -0.025526464, 0.37389, 0.24639344,...</td>\n",
       "      <td>[0.03324856, -0.05314027, 0.014023768, 0.01497...</td>\n",
       "      <td>[-0.090272084, -0.32809806, -0.115412325, 0.36...</td>\n",
       "    </tr>\n",
       "    <tr>\n",
       "      <th>4</th>\n",
       "      <td>2020-06-09</td>\n",
       "      <td>Apple To Let Users Trade In Their Mac Computer...</td>\n",
       "      <td>AAPL</td>\n",
       "      <td>https://www.benzinga.com/news/20/06/16218697/a...</td>\n",
       "      <td>343.989990</td>\n",
       "      <td>347.899994</td>\n",
       "      <td>352.839996</td>\n",
       "      <td>338.799988</td>\n",
       "      <td>58.0</td>\n",
       "      <td>-1.947308</td>\n",
       "      <td>-2.615696</td>\n",
       "      <td>-1</td>\n",
       "      <td>-1</td>\n",
       "      <td>[0.21648331, 0.03065869, -0.09960988, 0.049770...</td>\n",
       "      <td>[-0.18243252, 0.09596918, -0.1363424, 0.259096...</td>\n",
       "      <td>[-0.023000775, 0.0014990732, 0.027343368, -0.0...</td>\n",
       "      <td>[0.28189945, -0.43821844, -1.1588358, 0.484726...</td>\n",
       "    </tr>\n",
       "  </tbody>\n",
       "</table>\n",
       "</div>"
      ],
      "text/plain": [
       "        Date                                      Article_title Stock_symbol  \\\n",
       "0 2020-06-10  Tech Stocks And FAANGS Strong Again To Start D...         AAPL   \n",
       "1 2020-06-10      10 Biggest Price Target Changes For Wednesday         AAPL   \n",
       "2 2020-06-09  Benzinga Pro's Top 5 Stocks To Watch For Wed.,...         AAPL   \n",
       "3 2020-06-09  Deutsche Bank Maintains Buy on Apple, Raises P...         AAPL   \n",
       "4 2020-06-09  Apple To Let Users Trade In Their Mac Computer...         AAPL   \n",
       "\n",
       "                                                 Url       close     1d_open  \\\n",
       "0  https://www.benzinga.com/government/20/06/1622...  352.839996  349.309998   \n",
       "1  https://www.benzinga.com/analyst-ratings/price...  352.839996  349.309998   \n",
       "2  https://www.benzinga.com/short-sellers/20/06/1...  343.989990  347.899994   \n",
       "3  https://www.benzinga.com/news/20/06/16219873/d...  343.989990  347.899994   \n",
       "4  https://www.benzinga.com/news/20/06/16218697/a...  343.989990  347.899994   \n",
       "\n",
       "     1d_close    3d_close  Unnamed: 0  arima_prediction  3d_change  \\\n",
       "0  335.899994  342.989990        59.0          1.373906  -1.809283   \n",
       "1  335.899994  342.989990        59.0          1.373906  -1.809283   \n",
       "2  352.839996  338.799988        58.0         -1.947308  -2.615696   \n",
       "3  352.839996  338.799988        58.0         -1.947308  -2.615696   \n",
       "4  352.839996  338.799988        58.0         -1.947308  -2.615696   \n",
       "\n",
       "   3d_direction  arima_3d_direction  \\\n",
       "0            -1                   1   \n",
       "1            -1                   1   \n",
       "2            -1                  -1   \n",
       "3            -1                  -1   \n",
       "4            -1                  -1   \n",
       "\n",
       "                                            word2vec  \\\n",
       "0  [0.22613467, 0.120725006, -0.0344015, -0.03363...   \n",
       "1  [0.7269928, 0.45623422, 0.16811378, 0.4158756,...   \n",
       "2  [0.16575599, 0.11278104, 0.14067568, 0.1441355...   \n",
       "3  [0.77714425, 0.22397597, -0.2422117, 0.4820196...   \n",
       "4  [0.21648331, 0.03065869, -0.09960988, 0.049770...   \n",
       "\n",
       "                                                bert  \\\n",
       "0  [-0.22223899, -0.21574433, 0.7697829, -0.25863...   \n",
       "1  [-0.5261865, -0.26204786, 0.08753802, -0.09534...   \n",
       "2  [-0.51947445, -0.5419372, 0.20520952, 0.046122...   \n",
       "3  [-0.663332, -0.025526464, 0.37389, 0.24639344,...   \n",
       "4  [-0.18243252, 0.09596918, -0.1363424, 0.259096...   \n",
       "\n",
       "                                               sBert  \\\n",
       "0  [-0.005246668, -0.060425527, 0.07172174, 0.062...   \n",
       "1  [-0.0076999157, -0.036944382, 0.051584832, -0....   \n",
       "2  [-0.11140143, -0.052677345, -0.057600692, -0.0...   \n",
       "3  [0.03324856, -0.05314027, 0.014023768, 0.01497...   \n",
       "4  [-0.023000775, 0.0014990732, 0.027343368, -0.0...   \n",
       "\n",
       "                                             finBert  \n",
       "0  [-0.26630303, -0.6620456, -0.7148093, -0.27177...  \n",
       "1  [0.17167464, -0.15455426, -0.38101625, 0.53613...  \n",
       "2  [-0.4587289, -0.883282, -0.9349482, 0.84453505...  \n",
       "3  [-0.090272084, -0.32809806, -0.115412325, 0.36...  \n",
       "4  [0.28189945, -0.43821844, -1.1588358, 0.484726...  "
      ]
     },
     "execution_count": 13,
     "metadata": {},
     "output_type": "execute_result"
    }
   ],
   "source": [
    "df.head()"
   ]
  },
  {
   "cell_type": "code",
   "execution_count": 14,
   "id": "413c98db",
   "metadata": {},
   "outputs": [
    {
     "name": "stdout",
     "output_type": "stream",
     "text": [
      "Bert vector size is 768 and finbert is 768, and sbert is 384\n"
     ]
    }
   ],
   "source": [
    "print(f'Bert vector size is {len(df[\"bert\"][0])} and finbert is {len(df[\"finBert\"][0])}, and sbert is {len(df[\"sBert\"][0])}')"
   ]
  },
  {
   "cell_type": "code",
   "execution_count": 15,
   "id": "08226e46",
   "metadata": {},
   "outputs": [],
   "source": [
    "df.to_pickle(\"Data/news_embeddings_csl_sbert.pkl\")"
   ]
  },
  {
   "cell_type": "code",
   "execution_count": null,
   "id": "b94b6043",
   "metadata": {},
   "outputs": [],
   "source": []
  }
 ],
 "metadata": {
  "kernelspec": {
   "display_name": "Python (mygpuenv)",
   "language": "python",
   "name": "env1-gpu"
  },
  "language_info": {
   "codemirror_mode": {
    "name": "ipython",
    "version": 3
   },
   "file_extension": ".py",
   "mimetype": "text/x-python",
   "name": "python",
   "nbconvert_exporter": "python",
   "pygments_lexer": "ipython3",
   "version": "3.9.20"
  }
 },
 "nbformat": 4,
 "nbformat_minor": 5
}
